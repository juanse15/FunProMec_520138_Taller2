{
  "cells": [
    {
      "cell_type": "markdown",
      "id": "66beb5a1",
      "metadata": {
        "id": "66beb5a1"
      },
      "source": [
        "# Fundamentos de Programación para Ingeniería Mecánica\n",
        "## UPB Montería - 202310\n",
        "### Taller 5: Funciones y Estructuras de Datos\n",
        "- Docente: Miguel Ortiz (miguel.ortizp@upb.edu.co)"
      ]
    },
    {
      "cell_type": "markdown",
      "id": "b4381f55",
      "metadata": {
        "id": "b4381f55"
      },
      "source": [
        "Datos del Estudiante:\n",
        "- Nombre: Juna Sebastián Arteaga Gómez \n",
        "- ID: 000520138\n",
        "- email:juan.arteagag@upb.edu.co"
      ]
    },
    {
      "cell_type": "markdown",
      "id": "433f35a0",
      "metadata": {
        "id": "433f35a0"
      },
      "source": [
        "> Resuelva los siguientes ejercicios utilizando **Funciones, Listas y Diccionarios**."
      ]
    },
    {
      "cell_type": "markdown",
      "id": "aead929b",
      "metadata": {
        "id": "aead929b"
      },
      "source": [
        "### Problema 1: Discurso Político (150xp)\n",
        "\n",
        "Diseñe el algoritmo y escriba un código en lenguaje de programación Python para generar discursos políticos aleatorios, teniendo en cuenta la siguiente imagen:\n",
        "\n",
        "![componentes de un discurso](https://github.com/Mikheltodd/FunProgMec_202310_Taller5/blob/main/discurso.png?raw=1)\n",
        "\n",
        "Para ello, debe solicitar al usuario el nombre del candidato, un presupuesto general, y tres (3) porcentajes que representen los dineros que destinará a diferentes sectores seleccionados de forma aleatoria (lista de beneficio populista).\n",
        "\n",
        "Crea una función sin parámetros que retorne un string con el mensaje político. Dentro de la función deben aparecer los inputs para solicitar información al usuario. Guarda el mensaje creado por la función en una variable llamada `mensaje_politico` e imprime su valor en consola. \n",
        "\n",
        "**Ejemplo:**\n",
        "\n",
        "```\n",
        ">>> Entradas:\n",
        "Ingrese nombre del candidato: Chocolove McDonell\n",
        "Ingrese presupuesto (en millones de pesos): 1250\n",
        "Ingrese Porcentaje 1: 25\n",
        "Ingrese Porcentaje 2: 30\n",
        "Ingrese Porcentaje 3: 45\n",
        ">>> Salidas:\n",
        "Estimados copartidarios. \n",
        "Mi nombre es Chocolove McDonell y hoy vengo a decirles que, con su ayuda combatiré el desplazamiento y promoveré la educación de cada colombiano. Y es por eso que hoy he venido a proponerles invertir $1250.0 millones de pesos de la siguiente manera: \n",
        " - $312.5 millones de pesos en el empleo \n",
        " - $375.0 millones de pesos en la educación \n",
        " - $562.5 millones de pesos en la salud \n",
        "```\n",
        "\n",
        "**Nota:** para seleccionar un elemento aleatorio de una lista puede utilizar la función `choice()` de la librería random:\n",
        "\n",
        "```python\n",
        "import random\n",
        "random.choice([1, 2, 3])\n",
        "```\n",
        "\n",
        "**Recomendación:** cree las variables sin acento (tildes) y en minúsculas. "
      ]
    },
    {
      "cell_type": "code",
      "execution_count": 5,
      "id": "a78382aa",
      "metadata": {
        "id": "a78382aa",
        "outputId": "9e760ae4-20bf-4c70-aca4-a4199118bdb1",
        "colab": {
          "base_uri": "https://localhost:8080/",
          "height": 443
        }
      },
      "outputs": [
        {
          "name": "stdout",
          "output_type": "stream",
          "text": [
            "Ingrese nombre del candidato: Diomedes diáz \n",
            "Ingrese presupuesto (en millones de pesos): 140000000\n",
            "Ingrese Porcentaje 1: 10\n",
            "Ingrese Porcentaje 2: 20\n",
            "Ingrese Porcentaje 3: 40\n"
          ]
        },
        {
          "output_type": "error",
          "ename": "TypeError",
          "evalue": "ignored",
          "traceback": [
            "\u001b[0;31m---------------------------------------------------------------------------\u001b[0m",
            "\u001b[0;31mTypeError\u001b[0m                                 Traceback (most recent call last)",
            "\u001b[0;32m<ipython-input-5-8fcb6eb330f1>\u001b[0m in \u001b[0;36m<cell line: 32>\u001b[0;34m()\u001b[0m\n\u001b[1;32m     30\u001b[0m \u001b[0;34m\u001b[0m\u001b[0m\n\u001b[1;32m     31\u001b[0m \u001b[0;34m\u001b[0m\u001b[0m\n\u001b[0;32m---> 32\u001b[0;31m \u001b[0mmensaje_politico\u001b[0m \u001b[0;34m=\u001b[0m \u001b[0mgenerar_discurso_politico\u001b[0m\u001b[0;34m(\u001b[0m\u001b[0;34m)\u001b[0m\u001b[0;34m\u001b[0m\u001b[0;34m\u001b[0m\u001b[0m\n\u001b[0m\u001b[1;32m     33\u001b[0m \u001b[0;34m\u001b[0m\u001b[0m\n\u001b[1;32m     34\u001b[0m \u001b[0;34m\u001b[0m\u001b[0m\n",
            "\u001b[0;32m<ipython-input-4-7760e9482f57>\u001b[0m in \u001b[0;36mgenerar_discurso_politico\u001b[0;34m()\u001b[0m\n\u001b[1;32m     10\u001b[0m \u001b[0;34m\u001b[0m\u001b[0m\n\u001b[1;32m     11\u001b[0m \u001b[0;34m\u001b[0m\u001b[0m\n\u001b[0;32m---> 12\u001b[0;31m     \u001b[0mmonto1\u001b[0m \u001b[0;34m=\u001b[0m \u001b[0;34m(\u001b[0m\u001b[0mpresupuesto\u001b[0m \u001b[0;34m*\u001b[0m \u001b[0mporcentaje1\u001b[0m\u001b[0;34m)\u001b[0m \u001b[0;34m/\u001b[0m \u001b[0;36m100\u001b[0m\u001b[0;34m\u001b[0m\u001b[0;34m\u001b[0m\u001b[0m\n\u001b[0m\u001b[1;32m     13\u001b[0m     \u001b[0mmonto2\u001b[0m \u001b[0;34m=\u001b[0m \u001b[0;34m(\u001b[0m\u001b[0mpresupuesto\u001b[0m \u001b[0;34m*\u001b[0m \u001b[0mporcentaje2\u001b[0m\u001b[0;34m)\u001b[0m \u001b[0;34m/\u001b[0m \u001b[0;36m100\u001b[0m\u001b[0;34m\u001b[0m\u001b[0;34m\u001b[0m\u001b[0m\n\u001b[1;32m     14\u001b[0m     \u001b[0mmonto3\u001b[0m \u001b[0;34m=\u001b[0m \u001b[0;34m(\u001b[0m\u001b[0mpresupuesto\u001b[0m \u001b[0;34m*\u001b[0m \u001b[0mporcentaje3\u001b[0m\u001b[0;34m)\u001b[0m \u001b[0;34m/\u001b[0m \u001b[0;36m100\u001b[0m\u001b[0;34m\u001b[0m\u001b[0;34m\u001b[0m\u001b[0m\n",
            "\u001b[0;31mTypeError\u001b[0m: can't multiply sequence by non-int of type 'str'"
          ]
        }
      ],
      "source": [
        "import random\n",
        "\n",
        "def discurso():\n",
        "    titulo = random.choice(['Queridos ', 'Apreciados ', 'Distinguidos ', 'Honorables ', 'Estimados ', 'Respetados '])\n",
        "    publico = random.choice(['Compatriotas ', 'Copartidarios ', 'Amigos ', 'Coterráneos ', 'Conciudadanos ', 'Electores '])\n",
        "    condicion = random.choice(['En mi gobierno ', 'Con si apoyo ', 'Siendo elegido ', 'Con su ayuda ', 'Si me siguen ', 'Durante mi mandato '])\n",
        "    compromiso = random.choice(['Voy a derrotar ', 'Venceré ', 'Elemiminaré ', 'Acabaré ', 'Lucharé contra ', 'Combatiré '])\n",
        "    ilusion = random.choice(['La violencia y ', 'La delincuencia y ', 'La corrupción y ', 'La inflación y ', 'La pobreza y ', 'El desplazamiento y '])\n",
        "    promesa = random.choice(['Trabajaré por ', 'Garantizaré ', 'Protegeré ', 'Velaré por ', 'Promoveré ', 'Defenderé '])\n",
        "    beneficio = random.choice(['La educación ', 'El empleo ', 'La seguridad ', 'La paz ', 'La igualdad ', 'La salud '])\n",
        "    cant_votos = random.choice(['Del país ', 'De la ciudad ', 'De la comunidad ', 'De la población', 'Para toda la gente', 'De cada colombiano'])\n",
        "     \n",
        "    return titulo, publico, condicion, compromiso, ilusion, promesa, beneficio, cant_votos\n",
        "    \n",
        "    nombre_candidato = input(\"Ingrese nombre del candidato: \")\n",
        "    presupuesto = float(input(\"Ingrese presupuesto (en millones de pesos): \"))\n",
        "    porcentaje1 = float(input(\"Ingrese Porcentaje 1: \"))\n",
        "    porcentaje2 = float(input(\"Ingrese Porcentaje 2: \"))\n",
        "    porcentaje3 = float(input(\"Ingrese Porcentaje 3: \"))\n",
        "\n",
        "\n",
        "    \n",
        "    primer_porcentaje = (presupuesto * porcentaje1) / 100\n",
        "    segundo_porcentaje = (presupuesto * porcentaje2) / 100\n",
        "    tercer_porcentaje = (presupuesto * porcentaje3) / 100\n",
        "\n",
        "    \n",
        "    mensaje = f\"Estimados copartidarios. \\nMi nombre es {nombre_candidato} y hoy vengo a decirles que, con su ayuda combatiré el desplazamiento y promoveré la educación de cada colombiano. Y es por eso que hoy he venido a proponerles invertir ${presupuesto:.1f} millones de pesos de la siguiente manera: \\n - ${monto1:.1f} millones de pesos en el empleo \\n - ${monto2:.1f} millones de pesos en la educación \\n - ${monto3:.1f} millones de pesos en la salud\"\n",
        "\n",
        "    \n",
        "    return mensaje\n",
        "\n",
        "\n",
        "mensaje_politico = generar_discurso_politico()\n",
        "\n",
        "\n",
        "print(mensaje_politico)\n",
        "\n"
      ]
    },
    {
      "cell_type": "code",
      "execution_count": null,
      "id": "81812b6a",
      "metadata": {
        "id": "81812b6a"
      },
      "outputs": [],
      "source": []
    }
  ],
  "metadata": {
    "kernelspec": {
      "display_name": "Python 3 (ipykernel)",
      "language": "python",
      "name": "python3"
    },
    "language_info": {
      "codemirror_mode": {
        "name": "ipython",
        "version": 3
      },
      "file_extension": ".py",
      "mimetype": "text/x-python",
      "name": "python",
      "nbconvert_exporter": "python",
      "pygments_lexer": "ipython3",
      "version": "3.10.6"
    },
    "colab": {
      "provenance": []
    }
  },
  "nbformat": 4,
  "nbformat_minor": 5
}