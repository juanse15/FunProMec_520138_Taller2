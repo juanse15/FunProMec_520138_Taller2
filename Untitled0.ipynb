{
  "nbformat": 4,
  "nbformat_minor": 0,
  "metadata": {
    "colab": {
      "provenance": [],
      "authorship_tag": "ABX9TyMH4ox/UZL/D+84ki2/DnqL",
      "include_colab_link": true
    },
    "kernelspec": {
      "name": "python3",
      "display_name": "Python 3"
    },
    "language_info": {
      "name": "python"
    }
  },
  "cells": [
    {
      "cell_type": "markdown",
      "metadata": {
        "id": "view-in-github",
        "colab_type": "text"
      },
      "source": [
        "<a href=\"https://colab.research.google.com/github/juanse15/FunProMec_520138_Taller2/blob/main/Untitled0.ipynb\" target=\"_parent\"><img src=\"https://colab.research.google.com/assets/colab-badge.svg\" alt=\"Open In Colab\"/></a>"
      ]
    },
    {
      "cell_type": "code",
      "execution_count": 6,
      "metadata": {
        "colab": {
          "base_uri": "https://localhost:8080/"
        },
        "id": "21kEt4mMAYyb",
        "outputId": "5980b945-0b92-4ea3-ac4d-2cddbad3f49b"
      },
      "outputs": [
        {
          "output_type": "stream",
          "name": "stdout",
          "text": [
            "A es mayor que B\n"
          ]
        }
      ],
      "source": [
        "A = 5\n",
        "B = 3\n",
        "C = -2\n",
        "if A > B:\n",
        "  print(\"A es mayor que B\") \n",
        " \n",
        "if A < B:\n",
        "  print(\"A es menor que B\")\n"
      ]
    },
    {
      "cell_type": "code",
      "source": [
        "  A = 3\n",
        "  b = 5\n",
        "  if A > B: \n",
        "    print(\"A es meyor que B\")\n",
        "  else:\n",
        "    print(\" A es menor igual que B\")"
      ],
      "metadata": {
        "colab": {
          "base_uri": "https://localhost:8080/"
        },
        "id": "rMVLVqYnERjK",
        "outputId": "2310e424-f826-48d7-d201-2ce68fd13433"
      },
      "execution_count": 7,
      "outputs": [
        {
          "output_type": "stream",
          "name": "stdout",
          "text": [
            " A es menor igual que B\n"
          ]
        }
      ]
    },
    {
      "cell_type": "code",
      "source": [
        "A = 7\n",
        "B = 20\n",
        "if A > B:\n",
        "  print(\"A es mayor que B\")\n",
        "else:\n",
        "  print(\"A es menor  o igual que B\")  "
      ],
      "metadata": {
        "colab": {
          "base_uri": "https://localhost:8080/"
        },
        "id": "1IeA2JR6FAb1",
        "outputId": "4db01120-3546-4d5b-aa12-c08fb669f388"
      },
      "execution_count": 8,
      "outputs": [
        {
          "output_type": "stream",
          "name": "stdout",
          "text": [
            "A es menor  o igual que B\n"
          ]
        }
      ]
    },
    {
      "cell_type": "code",
      "source": [
        "A = 505\n",
        "B = 500\n",
        "if A > B:\n",
        "  print(\"A es mayor que B\")\n",
        "elif A < B:\n",
        "  print(\"A es menor que B\")\n",
        "else:\n",
        "  print(\"A es igual a B\")"
      ],
      "metadata": {
        "colab": {
          "base_uri": "https://localhost:8080/"
        },
        "id": "w99XA1J5F62_",
        "outputId": "259f6d96-6c93-48ae-a8ec-7a0baf3992f4"
      },
      "execution_count": 10,
      "outputs": [
        {
          "output_type": "stream",
          "name": "stdout",
          "text": [
            "A es mayor que B\n"
          ]
        }
      ]
    },
    {
      "cell_type": "code",
      "source": [],
      "metadata": {
        "id": "qvgH_eYsHfRv"
      },
      "execution_count": null,
      "outputs": []
    }
  ]
}