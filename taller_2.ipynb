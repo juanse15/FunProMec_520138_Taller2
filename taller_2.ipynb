{
  "nbformat": 4,
  "nbformat_minor": 0,
  "metadata": {
    "colab": {
      "provenance": [],
      "authorship_tag": "ABX9TyM/sqLhggHSQSRo4fBLqlrJ",
      "include_colab_link": true
    },
    "kernelspec": {
      "name": "python3",
      "display_name": "Python 3"
    },
    "language_info": {
      "name": "python"
    }
  },
  "cells": [
    {
      "cell_type": "markdown",
      "metadata": {
        "id": "view-in-github",
        "colab_type": "text"
      },
      "source": [
        "<a href=\"https://colab.research.google.com/github/juanse15/FunProMec_520138_Taller2/blob/main/taller_2.ipynb\" target=\"_parent\"><img src=\"https://colab.research.google.com/assets/colab-badge.svg\" alt=\"Open In Colab\"/></a>"
      ]
    },
    {
      "cell_type": "markdown",
      "source": [],
      "metadata": {
        "id": "A21O0ez31Cfk"
      }
    },
    {
      "cell_type": "code",
      "execution_count": 1,
      "metadata": {
        "id": "qJIIfCrT0FAi"
      },
      "outputs": [],
      "source": [
        "#definir variable \n",
        "x_0 = 5 \n",
        "v_0 = 4\n",
        "a = -2 \n",
        "t_1 = 3\n",
        "t_2 = 10 "
      ]
    },
    {
      "cell_type": "code",
      "source": [
        "# calcular las posisciones \n",
        "x_1 = 5 + 4 * 3 + 0,5* -2 * 3 **2 \n",
        "x_2 = 5 + 4 * 10 + 0,5* -2 *10**2 \n",
        "print(x_1)\n",
        "print(x_2 )"
      ],
      "metadata": {
        "colab": {
          "base_uri": "https://localhost:8080/"
        },
        "id": "goXiV1rX1NtF",
        "outputId": "f1cc2628-abed-43c0-91c8-3d35452ee44f"
      },
      "execution_count": 5,
      "outputs": [
        {
          "output_type": "stream",
          "name": "stdout",
          "text": [
            "(17, -90)\n",
            "(45, -1000)\n"
          ]
        }
      ]
    },
    {
      "cell_type": "code",
      "source": [
        "# definir variables \n",
        "x1 = 1\n",
        "y1 = 1\n",
        "x2 = -1\n",
        "y2 = -1\n",
        "#calcular distancia\n",
        "d_1 = ((x2 - x1)**2 +(y2 - y1)**2)\n",
        "print(d_1)"
      ],
      "metadata": {
        "colab": {
          "base_uri": "https://localhost:8080/"
        },
        "id": "DYrtpdLL4UWm",
        "outputId": "a736409e-7301-4c54-dcd6-fddd6c65ab62"
      },
      "execution_count": 11,
      "outputs": [
        {
          "output_type": "stream",
          "name": "stdout",
          "text": [
            "8\n"
          ]
        }
      ]
    },
    {
      "cell_type": "code",
      "source": [
        "#definir variables \n",
        "x1 = -2\n",
        "y1 = 0\n",
        "x2 = 4\n",
        "y2 = 5\n",
        "# calcular distancia \n",
        "d_2 = ((x2 - x1)**2 +(y2 - y1)**2)\n",
        "print(d_2)"
      ],
      "metadata": {
        "colab": {
          "base_uri": "https://localhost:8080/"
        },
        "id": "qummjYqF4677",
        "outputId": "814c4b04-cefc-4af4-ac8e-4d76f746a7c6"
      },
      "execution_count": 10,
      "outputs": [
        {
          "output_type": "stream",
          "name": "stdout",
          "text": [
            "61\n"
          ]
        }
      ]
    },
    {
      "cell_type": "code",
      "source": [
        "# definir variables \n",
        "A = -3\n",
        "B = 3\n",
        "C = 4\n",
        "D = 0\n",
        "print(A <= B)\n",
        "print(B > C)\n",
        "print(A != C and D > A)\n",
        "print(B < C or B > A)\n",
        "print(A != D)\n",
        "print(A - D > C)\n",
        "print(D + C >= A * B)\n",
        "print(A * C == 10 or B * A < 3)\n",
        "print(B * C + D > D * 5)\n",
        "print(2 * A == - D * 4)\n",
        "\n"
      ],
      "metadata": {
        "colab": {
          "base_uri": "https://localhost:8080/"
        },
        "id": "DbZpdjJ66Osf",
        "outputId": "6585570d-7957-4e6d-f812-74f19e922f89"
      },
      "execution_count": 12,
      "outputs": [
        {
          "output_type": "stream",
          "name": "stdout",
          "text": [
            "True\n",
            "False\n",
            "True\n",
            "True\n",
            "True\n",
            "False\n",
            "True\n",
            "True\n",
            "True\n",
            "False\n"
          ]
        }
      ]
    }
  ]
}